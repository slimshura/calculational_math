{
 "cells": [
  {
   "cell_type": "code",
   "execution_count": 1,
   "metadata": {
    "collapsed": true
   },
   "outputs": [],
   "source": [
    "import numpy as np\n",
    "import pandas as pd"
   ]
  },
  {
   "cell_type": "code",
   "execution_count": 2,
   "metadata": {
    "collapsed": true
   },
   "outputs": [],
   "source": [
    "class prim_iter:\n",
    "    def __init__(self, function_to_find_roots, d_matrix_function):\n",
    "        self.func = function_to_find_roots\n",
    "        self.d_mat = d_matrix_function\n",
    "        \n",
    "        \n",
    "    def __call__(self, current_x_vector):\n",
    "        return self.func(current_x_vector)"
   ]
  },
  {
   "cell_type": "code",
   "execution_count": 3,
   "metadata": {
    "collapsed": true
   },
   "outputs": [],
   "source": [
    "def f_for_prim(some_x_vector):\n",
    "    x = some_x_vector[0]\n",
    "    y = some_x_vector[1]\n",
    "    return np.array([1 - 0.5*np.cos(y), -1.2 + np.sin(x+1)])\n",
    "    \n",
    "def d_for_prim(some_x_vector):\n",
    "    x = some_x_vector[0]\n",
    "    y = some_x_vector[1]\n",
    "    return np.array([[0, 0.5*np.sin(y)], [np.cos(x+1), 0]])"
   ]
  },
  {
   "cell_type": "code",
   "execution_count": 4,
   "metadata": {
    "collapsed": true
   },
   "outputs": [],
   "source": [
    "class newton_iter:\n",
    "    def __init__(self, function_to_find_roots, d_matrix_function):\n",
    "        self.func = function_to_find_roots\n",
    "        self.d_mat = d_matrix_function\n",
    "        \n",
    "    def __call__(self, current_x_vector):\n",
    "        current_f_vector = self.func(current_x_vector)\n",
    "        current_d_mat = self.d_mat(current_x_vector)\n",
    "        d_inv = np.linalg.inv(current_d_mat)\n",
    "        return current_x_vector - np.dot(d_inv, current_f_vector.reshape((-1, 1))).flatten()"
   ]
  },
  {
   "cell_type": "code",
   "execution_count": 5,
   "metadata": {
    "collapsed": true
   },
   "outputs": [],
   "source": [
    "def f_function_given(some_x_vector):\n",
    "    x = some_x_vector[0]\n",
    "    y = some_x_vector[1]\n",
    "    return np.array([np.sin(x+1) - y - 1.2, np.cos(y) - 2.0 + 2*x])\n",
    "\n",
    "def d_matrix_function_given(some_x_vector):\n",
    "    x = some_x_vector[0]\n",
    "    y = some_x_vector[1]\n",
    "    return np.array([[np.cos(x+1), -1.0], [2.0, - np.sin(y)]])\n",
    "\n",
    "eps_argument = 1e-6"
   ]
  },
  {
   "cell_type": "code",
   "execution_count": 6,
   "metadata": {
    "collapsed": true
   },
   "outputs": [],
   "source": [
    "def make_report(iterating_functor_class, function_to_find_roots, d_matrix_function,\n",
    "                eps, q_provided, init_x = None, vector_len = None, \n",
    "                max_iter = 1000, vector_norm_function = np.linalg.norm):\n",
    "    if init_x is None:\n",
    "        init_x = np.zeros((vector_len,))\n",
    "    init_x = np.array(init_x).astype(float)\n",
    "    iterating_functor = iterating_functor_class(function_to_find_roots, d_matrix_function)\n",
    "    cur_num_iter = 0\n",
    "    x_last = init_x\n",
    "    x_prev = init_x\n",
    "    def satisfies_eps_condition():\n",
    "        if cur_num_iter == 0:\n",
    "            return False\n",
    "        return (vector_norm_function(x_prev - x_last) < eps * (1 - q_provided))\n",
    "    print 'Initial vector is ', init_x\n",
    "    vals_for_table = []\n",
    "    while (not satisfies_eps_condition() and cur_num_iter < max_iter):\n",
    "        cur_num_iter += 1\n",
    "        x_prev = np.copy(x_last)\n",
    "        x_last = iterating_functor(x_last)\n",
    "        vals_for_table.append([cur_num_iter, vector_norm_function(x_prev - x_last)] + \n",
    "                             x_last.flatten().tolist())\n",
    "    if not satisfies_eps_condition():\n",
    "        print 'Iterations number too large, greater than ', max_iter\n",
    "    vals_for_table = np.array(vals_for_table)\n",
    "    cols_names = ['iteration number', 'last difference'] + map(str, range(1, len(init_x) + 1))\n",
    "    print pd.DataFrame(vals_for_table, columns = cols_names).to_string(index = False)"
   ]
  },
  {
   "cell_type": "code",
   "execution_count": 8,
   "metadata": {},
   "outputs": [
    {
     "name": "stdout",
     "output_type": "stream",
     "text": [
      "Initial vector is  [ 100. -300.]\n",
      " iteration number  last difference         1         2\n",
      "                1     3.151993e+02  1.011048 -0.747974\n",
      "                2     5.894336e-01  0.633466 -0.295356\n",
      "                3     1.456874e-01  0.521651 -0.201963\n",
      "                4     1.151284e-02  0.510163 -0.201207\n",
      "                5     6.347772e-04  0.510087 -0.201838\n",
      "                6     6.324269e-05  0.510150 -0.201842\n",
      "                7     3.852507e-06  0.510151 -0.201838\n",
      "                8     3.844124e-07  0.510150 -0.201838\n",
      "                9     2.340477e-08  0.510150 -0.201838\n",
      "Initial vector is  [ 100. -300.]\n",
      " iteration number  last difference           1           2\n",
      "                1     3.915082e+02  191.319145   80.709148\n",
      "                2     2.497077e+02  -39.066866  177.022383\n",
      "                3     2.506854e+02 -106.449903  -64.437136\n",
      "                4     1.039029e+02  -38.078391   13.800648\n",
      "                5     5.915044e+01   14.038164   41.776338\n",
      "                6     4.770401e+01   20.329234   -5.511031\n",
      "                7     2.135174e+01    6.237658   10.530302\n",
      "                8     1.097743e+01    6.129357   -0.446593\n",
      "                9     5.858125e+00    1.248675   -3.686435\n",
      "               10     2.852065e+00    2.130480   -0.974112\n",
      "               11     3.041400e+00   -0.124885    1.066338\n",
      "               12     1.334237e+00    0.190907   -0.229989\n",
      "               13     3.225527e-01    0.504614   -0.154966\n",
      "               14     4.715796e-02    0.509610   -0.201859\n",
      "               15     5.400459e-04    0.510150   -0.201838\n",
      "               16     1.451933e-07    0.510150   -0.201838\n"
     ]
    }
   ],
   "source": [
    "for some_cl, some_f, some_d in zip([prim_iter, newton_iter], [f_for_prim, f_function_given],\n",
    "                                   [d_for_prim, d_matrix_function_given]):\n",
    "    make_report(some_cl, some_f, some_d, eps_argument, 1./np.sqrt(2), np.array([100, -300]))"
   ]
  },
  {
   "cell_type": "code",
   "execution_count": 1,
   "metadata": {},
   "outputs": [
    {
     "data": {
      "text/plain": [
       "0.4298859542440167"
      ]
     },
     "execution_count": 1,
     "metadata": {},
     "output_type": "execute_result"
    }
   ],
   "source": [
    "Em = 32.0/15.0\n",
    "En = 119.0/20.0\n",
    "Em2m = 28.0 * (1.0 - 44.0/30.0 + (21.0*22.0)/(30.0*29.0))\n",
    "En2n = 17.0 * 8.0 * (1.0 - 26.0/20.0 + (13.0*12.0)/(20.0*19.0))\n",
    "(Em*En)/(Em2m+En2n+Em*En)"
   ]
  },
  {
   "cell_type": "code",
   "execution_count": null,
   "metadata": {
    "collapsed": true
   },
   "outputs": [],
   "source": []
  }
 ],
 "metadata": {
  "kernelspec": {
   "display_name": "Python 2",
   "language": "python",
   "name": "python2"
  },
  "language_info": {
   "codemirror_mode": {
    "name": "ipython",
    "version": 2
   },
   "file_extension": ".py",
   "mimetype": "text/x-python",
   "name": "python",
   "nbconvert_exporter": "python",
   "pygments_lexer": "ipython2",
   "version": "2.7.12"
  }
 },
 "nbformat": 4,
 "nbformat_minor": 2
}
