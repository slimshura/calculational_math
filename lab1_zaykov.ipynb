{
 "cells": [
  {
   "cell_type": "code",
   "execution_count": 1,
   "metadata": {
    "collapsed": true
   },
   "outputs": [],
   "source": [
    "import numpy as np\n",
    "import pandas as pd\n",
    "import matplotlib.pyplot as plt"
   ]
  },
  {
   "cell_type": "code",
   "execution_count": 2,
   "metadata": {
    "collapsed": true
   },
   "outputs": [],
   "source": [
    "def ar_subtract_point(some_ar, index_to_omit, some_point):\n",
    "    ar = some_ar - some_point\n",
    "    ar = -ar\n",
    "    return np.delete(ar, index_to_omit, axis = 0)\n",
    "\n",
    "def one_lagrangian_product(x_vals, index_to_omit, some_point):\n",
    "    return np.prod(ar_subtract_point(x_vals, index_to_omit, some_point))\n",
    "\n",
    "def get_all_lagrangian_part_products(x_vals, points):\n",
    "    return np.array([one_lagrangian_product(x_vals, i, points[i])\n",
    "                     for i in range(len(points))]).astype(float)\n",
    "\n",
    "def lagrange_interpolation(x_vals, y_vals, x_point):\n",
    "    numerators = get_all_lagrangian_part_products(x_vals, np.ones(x_vals.shape) * x_point)\n",
    "    print numerators \n",
    "    denomenators = get_all_lagrangian_part_products(x_vals, x_vals)\n",
    "    print denomenators\n",
    "    print numerators / denomenators, np.abs(numerators / denomenators) * (np.array([4., 4., 6., 9.]) * 0.0001)\n",
    "    return np.sum( (numerators / denomenators) * y_vals )\n",
    "\n",
    "'''def lagrange_derivative(x_vals, y_vals, x_point):\n",
    "    numerators = get_all_lagrangian_part_products(x_vals, np.ones(x_vals.shape) * x_point)\n",
    "    denomenators = get_all_lagrangian_part_products(x_vals, x_vals)\n",
    "    def get_one_derivative_multiplicator(some_index):\n",
    "        return np.sum(np.reciprocal(ar_subtract_point(x_vals, some_index, x_point)))\n",
    "    derivative_multiplicators = np.array([get_one_derivative_multiplicator(i) \n",
    "                                          for i in range(len(x_vals))])\n",
    "    print derivative_multiplicators\n",
    "    return np.sum( ((numerators / denomenators) * derivative_multiplicators) * y_vals )\n",
    "'''\n",
    "\n",
    "def lagrange_derivative_at_some_x(x_vals, y_vals, ind):\n",
    "    first_part = y_vals[ind] * np.sum(np.reciprocal(ar_subtract_point(x_vals, ind, x_vals[ind])))\n",
    "    denomenators = get_all_lagrangian_part_products(x_vals, x_vals)\n",
    "    denomenators = np.delete(denomenators, ind, axis = 0)\n",
    "    tmp_x_vals = np.delete(x_vals, ind, axis = 0)\n",
    "    numerators = get_all_lagrangian_part_products(tmp_x_vals, np.ones(tmp_x_vals.shape) * x_vals[ind])\n",
    "    second_part = np.sum( (numerators / denomenators) * np.delete(y_vals, ind, axis = 0))\n",
    "    return first_part + second_part"
   ]
  },
  {
   "cell_type": "code",
   "execution_count": 3,
   "metadata": {
    "collapsed": true
   },
   "outputs": [],
   "source": [
    "def newton_interpolation(x_vals, y_vals, x_point):\n",
    "    def get_finite_differences():\n",
    "        ar_len = len(x_vals)\n",
    "        result = np.zeros((ar_len, ar_len))\n",
    "        for i in range(ar_len):\n",
    "            result[i][i] = y_vals[i]\n",
    "        for cur_len in np.arange(2, ar_len + 1):\n",
    "            for i in np.arange(0, ar_len - cur_len + 1):\n",
    "                j = i + cur_len - 1\n",
    "                result[i][j] = (result[i+1][j] - result[i][j-1]) / (x_vals[j] - x_vals[i])\n",
    "        return result.astype(float)\n",
    "    b_coefficients = get_finite_differences()[0]\n",
    "    dif_ar = ar_subtract_point(x_vals, len(x_vals) - 1, x_point)\n",
    "    dif_ar = np.array([1] + dif_ar.tolist())\n",
    "    cumprods = np.cumprod(dif_ar)\n",
    "    return np.sum(b_coefficients * cumprods)\n"
   ]
  },
  {
   "cell_type": "code",
   "execution_count": 4,
   "metadata": {
    "collapsed": true
   },
   "outputs": [],
   "source": [
    "def functor_from_interpolator(some_interpolator, x_vals, y_vals):\n",
    "    def calcer(x_point):\n",
    "        return some_interpolator(x_vals, y_vals, x_point)\n",
    "    return calcer"
   ]
  },
  {
   "cell_type": "code",
   "execution_count": 5,
   "metadata": {
    "collapsed": true
   },
   "outputs": [],
   "source": [
    "def get_splyne_coefficients(x_i_1, x_i, P_N_1, P_N, P_N_1_shtrih, P_N_shtrih):\n",
    "    delta = x_i_1 - x_i\n",
    "    delta_f = P_N_1 - P_N\n",
    "    a_3 = ((P_N_1_shtrih + P_N_shtrih) * delta - 2 * delta_f) / (delta ** 3)\n",
    "    a_2 = (-P_N_1_shtrih * (2 * x_i + x_i_1) * delta - P_N_shtrih * (x_i + 2 * x_i_1) * delta +\n",
    "           3*delta_f *(x_i + x_i_1)) / (delta ** 3)\n",
    "    a_1 = (P_N_1_shtrih * x_i * (x_i + 2 * x_i_1) * delta +\n",
    "           P_N_shtrih * x_i_1 * (2 * x_i + x_i_1) * delta -\n",
    "           6*delta_f*x_i*x_i_1) / (delta ** 3)\n",
    "    a_0 = (-P_N_1_shtrih * x_i * x_i_1 * delta * x_i -\n",
    "           P_N_shtrih * x_i * x_i_1 * delta * x_i_1 +\n",
    "          P_N_1 * x_i * x_i * (3 * x_i_1 - x_i) +\n",
    "          P_N * x_i_1 * x_i_1 * (x_i_1 - 3 * x_i) )/ (delta ** 3)\n",
    "    return np.array([a_3, a_2, a_1, a_0])\n",
    "\n",
    "class splyne_calcer:\n",
    "    def __init__(self, x_vals, y_vals):\n",
    "        self.x_vals = x_vals\n",
    "        self.P_N_vals = y_vals\n",
    "        self.P_N_shtrih_vals = np.array([lagrange_derivative_at_some_x(x_vals, y_vals, some_ind)\n",
    "                                         for some_ind in range(len(x_vals))])\n",
    "        \n",
    "        \n",
    "    def __call__(self, x_point):\n",
    "        return self.calc_splyne_polynomial(x_point, self.findleftindex(x_point))\n",
    "        \n",
    "    def findleftindex(self, x_point):\n",
    "        segm_index = np.searchsorted(self.x_vals, x_point)\n",
    "        if segm_index == 0:\n",
    "            return 0\n",
    "        if segm_index == len(self.x_vals):\n",
    "            return len(self.x_vals) - 2\n",
    "        return segm_index - 1\n",
    "    \n",
    "    def calc_splyne_polynomial(self, x_point, fst_segment_index):\n",
    "        coefs = get_splyne_coefficients(self.x_vals[fst_segment_index + 1], self.x_vals[fst_segment_index],\n",
    "                                    self.P_N_vals[fst_segment_index + 1], self.P_N_vals[fst_segment_index],\n",
    "                                    self.P_N_shtrih_vals[fst_segment_index + 1], self.P_N_shtrih_vals[fst_segment_index])\n",
    "        x_degs = [x_point ** 3, x_point * x_point, x_point, 1]\n",
    "        return np.sum(coefs * x_degs)"
   ]
  },
  {
   "cell_type": "code",
   "execution_count": 6,
   "metadata": {
    "collapsed": true
   },
   "outputs": [],
   "source": [
    "def make_report(some_arguments):\n",
    "    some_arguments =  sorted(some_arguments)\n",
    "    x_vals = np.array(map(lambda x: x[0], some_arguments))\n",
    "    y_vals = np.array(map(lambda x: x[1], some_arguments))\n",
    "    functors = [functor_from_interpolator(some_func, x_vals, y_vals) for\n",
    "                some_func in[lagrange_interpolation, newton_interpolation] ] + [splyne_calcer(x_vals, y_vals)]\n",
    "    #points_to_calc = (x_vals[1:] + x_vals[:-1]) * 0.5\n",
    "    points_to_calc = np.array([2.25])\n",
    "    col_names = ['points', 'lagrange', 'newton', 'splynes']\n",
    "    dataframe_vals = [[x_point] + [cur_functor(x_point) for cur_functor in functors] for x_point in points_to_calc]\n",
    "    dataframe_vals = np.array(dataframe_vals)\n",
    "    df = pd.DataFrame(data = dataframe_vals, columns=col_names)\n",
    "    #import scipy.interpolate as ogogo\n",
    "    #print [ogogo.lagrange(x_vals, y_vals)(cur_x) for cur_x in points_to_calc]\n",
    "    print df\n",
    "    def make_graph_for_col(cur_col):\n",
    "        def get_borders(ar):\n",
    "            eps = .1\n",
    "            min_mult = 1-eps\n",
    "            max_mult = 1+eps\n",
    "            ans = []\n",
    "            for elem, mults in zip([np.min(ar), np.max(ar)], [[min_mult, max_mult], [max_mult, min_mult]]):\n",
    "                if elem == 0:\n",
    "                    ans.append(mults[0] - 1)\n",
    "                else:\n",
    "                    if elem > 0:\n",
    "                        ans.append(mults[0] * elem)\n",
    "                    else:\n",
    "                        ans.append(mults[1] * elem)\n",
    "            return tuple(ans)\n",
    "        \n",
    "        cur_x_vals = df['points'].values.flatten()\n",
    "        cur_y_vals = df[cur_col].values.flatten()\n",
    "        plt.plot(cur_x_vals, cur_y_vals)\n",
    "        plt.xlim(get_borders(cur_x_vals))\n",
    "        plt.ylim(get_borders(cur_y_vals))\n",
    "        plt.xlabel('x values')\n",
    "        plt.ylabel('y values')\n",
    "        plt.title(cur_col)\n",
    "        plt.figure(figsize = (15, 12))\n",
    "        plt.show()\n",
    "    for cur_col in col_names[1:]:\n",
    "        make_graph_for_col(cur_col)\n",
    "    print 'splyne_vals at given points are ', [splyne_calcer(x_vals, y_vals)(cur_x) for cur_x in x_vals]"
   ]
  },
  {
   "cell_type": "code",
   "execution_count": 7,
   "metadata": {},
   "outputs": [
    {
     "name": "stdout",
     "output_type": "stream",
     "text": [
      "[  6.4343658    7.35033     10.42977     18.53873125]\n",
      "[-1.06996545  0.5841234  -0.9171666   3.1953267 ]\n",
      "[ -6.01362016  12.58352259 -11.37172897   5.80182654] [ 0.00240545  0.00503341  0.00682304  0.00522164]\n",
      "   points  lagrange    newton   splynes\n",
      "0    2.25  0.747747  0.747747  0.747747\n"
     ]
    },
    {
     "data": {
      "image/png": "[encoded data removed]",
      "text/plain": [
       "<matplotlib.figure.Figure at 0x7f1883a1cc50>"
      ]
     },
     "metadata": {},
     "output_type": "display_data"
    },
    {
     "data": {
      "text/plain": [
       "<matplotlib.figure.Figure at 0x7f1883cb34d0>"
      ]
     },
     "metadata": {},
     "output_type": "display_data"
    },
    {
     "data": {
      "image/png": "[encoded data removed]",
      "text/plain": [
       "<matplotlib.figure.Figure at 0x7f18839000d0>"
      ]
     },
     "metadata": {},
     "output_type": "display_data"
    },
    {
     "data": {
      "text/plain": [
       "<matplotlib.figure.Figure at 0x7f18942c9290>"
      ]
     },
     "metadata": {},
     "output_type": "display_data"
    },
    {
     "data": {
      "image/png": "[encoded data removed]",
      "text/plain": [
       "<matplotlib.figure.Figure at 0x7f188003f990>"
      ]
     },
     "metadata": {},
     "output_type": "display_data"
    },
    {
     "data": {
      "text/plain": [
       "<matplotlib.figure.Figure at 0x7f18b8574050>"
      ]
     },
     "metadata": {},
     "output_type": "display_data"
    },
    {
     "name": "stdout",
     "output_type": "stream",
     "text": [
      "splyne_vals at given points are  [8.3266726846886741e-16, 0.10000000000000062, 0.30000000000000004, 0.50000000000000022]\n"
     ]
    }
   ],
   "source": [
    "#arguments = [(0.5236, 0), (0.87267, 0.00017), (1.22173, 0.00199),\n",
    " #            (1.5708, 0.01282), (1.91986, 0.05744)]\n",
    "arguments = [(-1., 0.), (-0.595, 0.1), (0.245, 0.3), (1.122, 0.5)]\n",
    "make_report(arguments)"
   ]
  },
  {
   "cell_type": "code",
   "execution_count": 8,
   "metadata": {},
   "outputs": [
    {
     "data": {
      "text/plain": [
       "0.0013629962500000001"
      ]
     },
     "execution_count": 8,
     "metadata": {},
     "output_type": "execute_result"
    }
   ],
   "source": [
    "aaaa = np.array(map(lambda x: x[0], arguments))\n",
    "np.prod(aaaa)/120.0"
   ]
  },
  {
   "cell_type": "code",
   "execution_count": 9,
   "metadata": {},
   "outputs": [
    {
     "name": "stdout",
     "output_type": "stream",
     "text": [
      "-0.087890625\n"
     ]
    }
   ],
   "source": [
    "print np.prod(2.25-np.arange(0, 4))/6."
   ]
  },
  {
   "cell_type": "code",
   "execution_count": 10,
   "metadata": {},
   "outputs": [
    {
     "name": "stdout",
     "output_type": "stream",
     "text": [
      "[-0.234375 -0.421875 -2.109375  0.703125]\n",
      "[-6.  2. -2.  6.]\n",
      "[ 0.0390625 -0.2109375  1.0546875  0.1171875] [  1.56250000e-05   8.43750000e-05   6.32812500e-04   1.05468750e-04]\n",
      "   points  lagrange   newton  splynes\n",
      "0    2.25   0.00067  0.00067  0.00067\n"
     ]
    },
    {
     "data": {
      "image/png": "[encoded data removed]",
      "text/plain": [
       "<matplotlib.figure.Figure at 0x7f1880087b90>"
      ]
     },
     "metadata": {},
     "output_type": "display_data"
    },
    {
     "data": {
      "text/plain": [
       "<matplotlib.figure.Figure at 0x7f1880030dd0>"
      ]
     },
     "metadata": {},
     "output_type": "display_data"
    },
    {
     "data": {
      "image/png": "[encoded data removed]",
      "text/plain": [
       "<matplotlib.figure.Figure at 0x7f1883cb3bd0>"
      ]
     },
     "metadata": {},
     "output_type": "display_data"
    },
    {
     "data": {
      "text/plain": [
       "<matplotlib.figure.Figure at 0x7f1880073b90>"
      ]
     },
     "metadata": {},
     "output_type": "display_data"
    },
    {
     "data": {
      "image/png": "[encoded data removed]",
      "text/plain": [
       "<matplotlib.figure.Figure at 0x7f18800c1f50>"
      ]
     },
     "metadata": {},
     "output_type": "display_data"
    },
    {
     "data": {
      "text/plain": [
       "<matplotlib.figure.Figure at 0x7f1880073890>"
      ]
     },
     "metadata": {},
     "output_type": "display_data"
    },
    {
     "name": "stdout",
     "output_type": "stream",
     "text": [
      "splyne_vals at given points are  [0.00040000000000000002, 0.00040000000000000002, 0.00060000000000000049, 0.00089999999999999737]\n"
     ]
    }
   ],
   "source": [
    "arguments = [(0. , 0.0004), (1., 0.0004), (2., 0.0006), (3., 0.0009)]\n",
    "make_report(arguments)"
   ]
  },
  {
   "cell_type": "code",
   "execution_count": null,
   "metadata": {
    "collapsed": true
   },
   "outputs": [],
   "source": []
  },
  {
   "cell_type": "code",
   "execution_count": null,
   "metadata": {
    "collapsed": true
   },
   "outputs": [],
   "source": []
  }
 ],
 "metadata": {
  "kernelspec": {
   "display_name": "Python 2",
   "language": "python",
   "name": "python2"
  },
  "language_info": {
   "codemirror_mode": {
    "name": "ipython",
    "version": 2
   },
   "file_extension": ".py",
   "mimetype": "text/x-python",
   "name": "python",
   "nbconvert_exporter": "python",
   "pygments_lexer": "ipython2",
   "version": "2.7.12"
  }
 },
 "nbformat": 4,
 "nbformat_minor": 2
}
