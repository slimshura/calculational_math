{
 "cells": [
  {
   "cell_type": "code",
   "execution_count": 1,
   "metadata": {
    "collapsed": true
   },
   "outputs": [],
   "source": [
    "import numpy as np\n",
    "import pandas as pd\n",
    "import matplotlib.pyplot as plt"
   ]
  },
  {
   "cell_type": "code",
   "execution_count": 2,
   "metadata": {
    "collapsed": true
   },
   "outputs": [],
   "source": [
    "def get_newton_cotes(some_func, a_point, b_point, subsegment_functor, N):\n",
    "    if (N - 1) % (subsegment_functor.get_nodes_number() - 1) != 0:\n",
    "        old_n = N\n",
    "        N += (subsegment_functor.get_nodes_number() -\n",
    "              (N % (subsegment_functor.get_nodes_number() - 1)))\n",
    "        print 'Newton cotes algorithm N=', old_n, ' has increased to ', N\n",
    "    num_divs = (N - 1) / (subsegment_functor.get_nodes_number() - 1) + 1\n",
    "    div_points = np.linspace(a_point, b_point, num_divs).astype(float)\n",
    "    shifted_lists = zip(div_points[ :-1], div_points[1: ])\n",
    "    subsegm_sums = map(lambda x: subsegment_functor(some_func, x[0], x[1]), shifted_lists)\n",
    "    return sum(subsegm_sums)\n",
    "\n",
    "def get_richardson_extrapolation_integral(some_func, a_point, b_point, subsegment_functor, N):\n",
    "    cur_p = subsegment_functor.get_approximation_order()\n",
    "    cur_divisor = float((1 << cur_p) -1)\n",
    "    return get_newton_cotes(some_func, a_point, b_point, subsegment_functor,\n",
    "                             2*N-1) + (get_newton_cotes(some_func, a_point, b_point, subsegment_functor,\n",
    "                                 2*N-1) - get_newton_cotes(some_func, a_point, b_point, subsegment_functor,\n",
    "                                 N))/cur_divisor"
   ]
  },
  {
   "cell_type": "code",
   "execution_count": 3,
   "metadata": {
    "collapsed": true
   },
   "outputs": [],
   "source": [
    "def get_gauss(some_func, a_point, b_point, gaus_N, legandre_roots_on_minus_one_one, \n",
    "             c_values_on_minus_one_one):\n",
    "    get_real_legandre_points = (b_point - a_point) * 0.5 * np.array(legandre_roots_on_minus_one_one)\n",
    "    get_real_legandre_points = get_real_legandre_points + ((a_point + b_point) * 0.5)\n",
    "    c_real_values = (b_point - a_point) * 0.5 * np.array(c_values_on_minus_one_one)\n",
    "    f_at_legandre_points = np.array(map(some_func, get_real_legandre_points))\n",
    "    return np.sum(f_at_legandre_points * c_real_values)\n"
   ]
  },
  {
   "cell_type": "code",
   "execution_count": 4,
   "metadata": {
    "collapsed": true
   },
   "outputs": [],
   "source": [
    "def make_report_common(some_func, a_point, b_point, subsegment_functor, N,\n",
    "                       gaus_N, legandre_roots_on_minus_one_one,\n",
    "                       c_values_on_minus_one_one,\n",
    "                       antiderivative_function = None):\n",
    "    col_names = ['Newton-Cotes_' + str(N), 'Newton-Cotes_' + str(2*N-1),\n",
    "                'Richardson_extrapolation', 'Gauss_' + str(gaus_N) + '_formula']\n",
    "    if antiderivative_function is not None:\n",
    "        col_names += ['Analytical answer']\n",
    "    newt_cot_N_val = get_newton_cotes(some_func, a_point, b_point,\n",
    "                                      subsegment_functor, N)\n",
    "    newt_cot_2N_1_val = get_newton_cotes(some_func, a_point, b_point,\n",
    "                                         subsegment_functor, 2*N-1)\n",
    "    rich_approx_val = get_richardson_extrapolation_integral(some_func, a_point, b_point,\n",
    "                                                            subsegment_functor, N)\n",
    "    gaus_val = get_gauss(some_func, a_point, b_point, gaus_N,\n",
    "                         legandre_roots_on_minus_one_one, \n",
    "                         c_values_on_minus_one_one)\n",
    "    provided_values = [newt_cot_N_val, newt_cot_2N_1_val,\n",
    "                       rich_approx_val, gaus_val]\n",
    "    if antiderivative_function is not None:\n",
    "        analytical_answer = antiderivative_function(b_point) - antiderivative_function(a_point)\n",
    "        provided_values.append(analytical_answer)\n",
    "    provided_values = np.array(provided_values).reshape((1, len(provided_values)))\n",
    "    return pd.DataFrame(provided_values, columns = col_names)"
   ]
  },
  {
   "cell_type": "code",
   "execution_count": 5,
   "metadata": {
    "collapsed": true
   },
   "outputs": [],
   "source": [
    "def given_function(x_point):\n",
    "    return 1./(4 * x_point * x_point + 4 * x_point + 5)\n",
    "\n",
    "def antiderivative_function_given(x_point):\n",
    "        return 0.25 * np.arctan(x_point + 0.5)\n",
    "\n",
    "class simpson_functor:\n",
    "    \n",
    "    def __init__(self):\n",
    "        return None\n",
    "    \n",
    "    def __call__(self, some_function, left_point, right_point):\n",
    "        return (some_function(left_point) + 4. * some_function(0.5 * left_point + 0.5 * right_point) +\n",
    "               some_function(right_point)) * (right_point - left_point)/6.\n",
    "    \n",
    "    def get_approximation_order(self):\n",
    "        return 4\n",
    "    \n",
    "    def get_nodes_number(self):\n",
    "        return 3\n",
    "    \n",
    "gaus_2_node_values = [np.sqrt(3)/3., -np.sqrt(3)/3.]\n",
    "gaus_2_c_values = [1., 1.]"
   ]
  },
  {
   "cell_type": "code",
   "execution_count": 6,
   "metadata": {
    "collapsed": true
   },
   "outputs": [],
   "source": [
    "def make_report_to_show(N):\n",
    "    a_point = 0\n",
    "    b_point = 1\n",
    "    table_to_draw = make_report_common(given_function, a_point, b_point,\n",
    "                                      simpson_functor(), N, 2,\n",
    "                                      gaus_2_node_values,\n",
    "                                      gaus_2_c_values,\n",
    "                                      antiderivative_function_given)\n",
    "    print table_to_draw.to_string(index = False)\n",
    "    real_ans = 0.25 * np.arctan(4. / 7.)\n",
    "    print 'Correct answer from the book is ', real_ans"
   ]
  },
  {
   "cell_type": "markdown",
   "metadata": {},
   "source": [
    "make_report_to_show(41)"
   ]
  },
  {
   "cell_type": "code",
   "execution_count": 8,
   "metadata": {},
   "outputs": [
    {
     "ename": "NameError",
     "evalue": "name 'f' is not defined",
     "output_type": "error",
     "traceback": [
      "\u001b[0;31m---------------------------------------------------------------------------\u001b[0m",
      "\u001b[0;31mNameError\u001b[0m                                 Traceback (most recent call last)",
      "\u001b[0;32m<ipython-input-8-814309e0ac96>\u001b[0m in \u001b[0;36m<module>\u001b[0;34m()\u001b[0m\n\u001b[0;32m----> 1\u001b[0;31m \u001b[0;34m\"{0:.2f}\"\u001b[0m\u001b[0;34m.\u001b[0m\u001b[0mformat\u001b[0m\u001b[0;34m(\u001b[0m\u001b[0mf\u001b[0m\u001b[0;34m)\u001b[0m\u001b[0;34m\u001b[0m\u001b[0m\n\u001b[0m",
      "\u001b[0;31mNameError\u001b[0m: name 'f' is not defined"
     ]
    }
   ],
   "source": [
    "\"{0:.2f}\".format(f)"
   ]
  },
  {
   "cell_type": "code",
   "execution_count": null,
   "metadata": {
    "collapsed": true
   },
   "outputs": [],
   "source": []
  }
 ],
 "metadata": {
  "kernelspec": {
   "display_name": "Python 2",
   "language": "python",
   "name": "python2"
  },
  "language_info": {
   "codemirror_mode": {
    "name": "ipython",
    "version": 2
   },
   "file_extension": ".py",
   "mimetype": "text/x-python",
   "name": "python",
   "nbconvert_exporter": "python",
   "pygments_lexer": "ipython2",
   "version": "2.7.12"
  }
 },
 "nbformat": 4,
 "nbformat_minor": 2
}
